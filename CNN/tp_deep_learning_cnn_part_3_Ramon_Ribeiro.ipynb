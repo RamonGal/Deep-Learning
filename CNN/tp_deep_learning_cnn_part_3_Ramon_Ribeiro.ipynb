{
  "nbformat": 4,
  "nbformat_minor": 0,
  "metadata": {
    "colab": {
      "name": "tp_deep_learning_cnn_part_3_Ramon Ribeiro.ipynb",
      "provenance": [],
      "collapsed_sections": []
    },
    "kernelspec": {
      "name": "python3",
      "display_name": "Python 3"
    },
    "language_info": {
      "name": "python"
    },
    "accelerator": "GPU"
  },
  "cells": [
    {
      "cell_type": "markdown",
      "metadata": {
        "id": "mPf2yufekv0f"
      },
      "source": [
        "\n",
        "# TP CNN, part 3 : super-resolution\n",
        "\n",
        "Lab led by Alasdair Newson\n",
        "## Objective:\n",
        "\n",
        "We want to implement a Convolutional Neural Network (CNN) to do image super-resolution.\n",
        "\n",
        "## Image super-resolution:\n",
        "\n",
        "The super-resolution problem can be summarised as follows. We have an image as an input, which is defined over a grid $\\{0,1,\\dots, m-1\\} \\times \\{0,1,\\dots, n-1\\}$. We define a factor $\\delta$, by which we upsample the image. The output of the super-resolution is an image defined on the grid $\\{0,\\frac{1}{\\delta},\\dots, m-1\\} \\times \\{0,\\frac{1}{\\delta},\\dots, n-1\\}$.\n",
        "\n",
        "## Model\n",
        "\n",
        "In this part of the TP, you have complete freedom to create any model you want, as long as the input is an image, and the output is also an image of size $\\delta m \\times \\delta n$. You will have to choose the architecture and loss which seems reasonable to you.\n",
        "\n",
        "To help you, here is a function to upsample images in neural networks :\n",
        "\n",
        "- ```from tensorflow.keras.layers import UpSampling2D```\n",
        "\n",
        "Of course, you can use any upsampling layer you wish. \n",
        "\n",
        "## Dataset\n",
        "\n",
        "We will be using the mnist dataset for this part. This is to ensure that you can obtain good results. The input data should be the subsampled version of the mnist images, subsampled by taking one out of every $\\delta$ pixels. The output data should be the normal-resolution mnist images.\n",
        "\n",
        "__IMPORTANT NOTES:__\n",
        "- Think carefully about what the training data and labels are in this case, and create them accordingly\n",
        "- We will use ```n_max=5000``` to limit the number of datapoints (as in part 1) to go faster\n",
        "- We set $\\delta$ to 2 in this TP, because it is not too difficult to create a network that works with this factor. If you change it, it might be more difficult to create a satisfactory network.\n",
        "\n",
        "# Your task:\n",
        "You have to load the mnist data (see the first part of the TP), create the model, train it, and evaluate and display the results.\n",
        "\n",
        "We have created a function ```super_res_interpolate```, which carries out super-resolution using basic interpolation (bilinear or bicubic), with which you can compare your results visually and numerically.\n",
        "\n"
      ]
    },
    {
      "cell_type": "code",
      "metadata": {
        "id": "5utO2_UDyKs3",
        "colab": {
          "base_uri": "https://localhost:8080/"
        },
        "outputId": "fb1d903c-b673-4310-fc12-e14cca23713e"
      },
      "source": [
        "\n",
        "# # Load packages\n",
        "\n",
        "%matplotlib inline\n",
        "import matplotlib.pyplot as plt\n",
        "import numpy as np\n",
        "\n",
        "import tensorflow as tf\n",
        "\n",
        "from tensorflow.keras.utils import to_categorical\n",
        "\n",
        "from tensorflow.keras.models import Sequential, Model\n",
        "from tensorflow.keras.layers import Dense, Dropout, Activation, Flatten, Input\n",
        "from tensorflow.keras.layers import Conv2D, MaxPooling2D, UpSampling2D\n",
        "from tensorflow.keras import optimizers\n",
        "from scipy import interpolate\n",
        "print(tf.keras.__version__)"
      ],
      "execution_count": null,
      "outputs": [
        {
          "output_type": "stream",
          "name": "stdout",
          "text": [
            "2.7.0\n"
          ]
        }
      ]
    },
    {
      "cell_type": "markdown",
      "metadata": {
        "id": "mcXyExW4vgmk"
      },
      "source": [
        "This next cell is the only code you are given to carry out the TP. This function carries out a bilinear upsampling, with which you can compare your super-resolution. This function is __not__ supposed to be used by you in your network."
      ]
    },
    {
      "cell_type": "code",
      "metadata": {
        "id": "np3Dj3tuqEqn"
      },
      "source": [
        "# choice of the interpolation method\n",
        "interp_method = 'linear'\n",
        "# upsampling factor\n",
        "delta = 2\n",
        "# the maximum number of data to take from mnist (to go a bit faster)\n",
        "n_max = 5000\n",
        "\n",
        "# upsample by a factor of delta\n",
        "# by definition, the new grid has a step size of 1/delta\n",
        "def super_res_interpolate(imgs_in,delta,interp_method = 'linear'):\n",
        "\timgs_out = tf.image.resize( tf.constant(imgs_in),\\\n",
        "\t\t[delta*imgs_in.shape[1],delta*imgs_in.shape[2]], method='bilinear').numpy()\n",
        "\treturn(imgs_out)\n"
      ],
      "execution_count": null,
      "outputs": []
    },
    {
      "cell_type": "markdown",
      "metadata": {
        "id": "vLGjn0zP5h0V"
      },
      "source": [
        "## Create your super-resolution network\n",
        "\n",
        "The rest is up to you ! Import the data, format it (you can use the first part of the TP as help), create your network, train it, and compare the results with ```super_res_interpolate```.\n",
        "\n",
        "Your network should be able to achieve about $80\\%$ accuracy.\n",
        "\n",
        "__Note__ you can obviously create as many cells as you like in your work."
      ]
    },
    {
      "cell_type": "markdown",
      "metadata": {
        "id": "D91j9-1JLM6T"
      },
      "source": [
        "## Create data demanded"
      ]
    },
    {
      "cell_type": "code",
      "metadata": {
        "colab": {
          "base_uri": "https://localhost:8080/"
        },
        "id": "GUo56uGdLPMm",
        "outputId": "5a2d564d-70e0-4039-ef02-f59588e3abf3"
      },
      "source": [
        "from keras.datasets import mnist\n",
        "(X_train, Y_train_scalar), (X_test, Y_test_scalar) = mnist.load_data()\n",
        "\n",
        "n_max = 5000\n",
        "X_train = X_train[0:n_max,:,:]\n",
        "X_test = X_test[0:n_max,:,:]\n",
        "Y_train_scalar = Y_train_scalar[0:n_max]\n",
        "Y_test_scalar = Y_test_scalar[0:n_max]\n",
        "\n",
        "print(X_train.shape)\n",
        "print(X_test.shape)"
      ],
      "execution_count": null,
      "outputs": [
        {
          "output_type": "stream",
          "name": "stdout",
          "text": [
            "(5000, 28, 28)\n",
            "(5000, 28, 28)\n"
          ]
        }
      ]
    },
    {
      "cell_type": "markdown",
      "metadata": {
        "id": "Qw6tU1viQFiu"
      },
      "source": [
        "## Sub-sample the data"
      ]
    },
    {
      "cell_type": "code",
      "metadata": {
        "id": "Hfx5BxeUqKf-",
        "colab": {
          "base_uri": "https://localhost:8080/"
        },
        "outputId": "1c8d90a0-f05a-4ca3-d1ad-fe4090007b0d"
      },
      "source": [
        "# we subsample the data by retrieving the data by a step o 2 on each dimention of all the images\n",
        "X_sub_train = X_train[:,0::2,0::2]\n",
        "X_sub_test = X_test[:,0::2,0::2]\n",
        "print(X_sub_train.shape)\n",
        "\n",
        "Y_train = X_train\n",
        "Y_test = X_test"
      ],
      "execution_count": null,
      "outputs": [
        {
          "output_type": "stream",
          "name": "stdout",
          "text": [
            "(5000, 14, 14)\n"
          ]
        }
      ]
    },
    {
      "cell_type": "markdown",
      "metadata": {
        "id": "L7pZ6hCQp41Y"
      },
      "source": [
        "Now, let's look at some of the data :"
      ]
    },
    {
      "cell_type": "code",
      "metadata": {
        "id": "_fe0vyM0pYe7",
        "colab": {
          "base_uri": "https://localhost:8080/",
          "height": 324
        },
        "outputId": "0a341d99-36ec-420e-a272-a1d33a27f99f"
      },
      "source": [
        "plt.figure(figsize=(10, 6))\n",
        "for idx in range(0,10):\n",
        "    plt.subplot(2, 5, idx+1)\n",
        "    rand_ind = np.random.randint(0,X_train.shape[0])\n",
        "    plt.imshow(X_test[rand_ind,:,:],cmap='gray')\n"
      ],
      "execution_count": null,
      "outputs": [
        {
          "output_type": "display_data",
          "data": {
            "image/png": "[encoded data removed]",
            "text/plain": [
              "<Figure size 720x432 with 10 Axes>"
            ]
          },
          "metadata": {
            "needs_background": "light"
          }
        }
      ]
    },
    {
      "cell_type": "markdown",
      "metadata": {
        "id": "ASGNSudMUxXX"
      },
      "source": [
        "Now sub sampled:"
      ]
    },
    {
      "cell_type": "code",
      "metadata": {
        "colab": {
          "base_uri": "https://localhost:8080/",
          "height": 323
        },
        "id": "7iR8WZ9-UrOD",
        "outputId": "1e44af7f-8825-4f6e-f97f-05cf53e9116f"
      },
      "source": [
        "plt.figure(figsize=(10, 6))\n",
        "for idx in range(0,10):\n",
        "    plt.subplot(2, 5, idx+1)\n",
        "    rand_ind = np.random.randint(0,X_train.shape[0])\n",
        "    plt.imshow(X_sub_test[rand_ind,:,:],cmap='gray')\n"
      ],
      "execution_count": null,
      "outputs": [
        {
          "output_type": "display_data",
          "data": {
            "image/png": "[encoded data removed]",
            "text/plain": [
              "<Figure size 720x432 with 10 Axes>"
            ]
          },
          "metadata": {
            "needs_background": "light"
          }
        }
      ]
    },
    {
      "cell_type": "markdown",
      "metadata": {
        "id": "DWeZRWFrU2TJ"
      },
      "source": [
        "## Creating the model"
      ]
    },
    {
      "cell_type": "code",
      "metadata": {
        "id": "K8ASzp-dVv7B"
      },
      "source": [
        "def get_model(upscale_factor=2):\n",
        "    conv_args = {\n",
        "        \"activation\": \"relu\",\n",
        "        \"kernel_initializer\": \"Orthogonal\",\n",
        "        \"padding\": \"same\",\n",
        "    }\n",
        "    inputs = Input(shape=(14, 14, 1))\n",
        "    x = Conv2D(64, 5, **conv_args)(inputs)\n",
        "    x = Conv2D(64, 3, **conv_args)(x)\n",
        "    x = Conv2D(32, 3, **conv_args)(x)\n",
        "    x = Conv2D((upscale_factor ** 2), 3, **conv_args)(x)\n",
        "    outputs = tf.nn.depth_to_space(x, upscale_factor)\n",
        "\n",
        "    return Model(inputs, outputs)"
      ],
      "execution_count": null,
      "outputs": []
    },
    {
      "cell_type": "code",
      "metadata": {
        "id": "aaESlUxeWHFu"
      },
      "source": [
        "model = get_model()"
      ],
      "execution_count": null,
      "outputs": []
    },
    {
      "cell_type": "markdown",
      "metadata": {
        "id": "GIviFwdnU6U3"
      },
      "source": [
        "## Training the data"
      ]
    },
    {
      "cell_type": "code",
      "metadata": {
        "colab": {
          "base_uri": "https://localhost:8080/"
        },
        "id": "kiWj8IRXWnvb",
        "outputId": "40eed04a-fe93-4ab4-ad33-d534287f9962"
      },
      "source": [
        "# set parameters\n",
        "loss_fn = tf.keras.losses.MeanSquaredError()\n",
        "optimizer = tf.keras.optimizers.Adam(learning_rate=0.001)\n",
        "epochs = 40\n",
        "\n",
        "model.compile(optimizer=optimizer, loss=loss_fn, metrics=[\"accuracy\"])\n",
        "\n",
        "history = model.fit(X_sub_train, Y_train, epochs=epochs, verbose=2)"
      ],
      "execution_count": null,
      "outputs": [
        {
          "output_type": "stream",
          "name": "stdout",
          "text": [
            "Epoch 1/40\n",
            "157/157 - 31s - loss: 812.6461 - accuracy: 0.6885 - 31s/epoch - 199ms/step\n",
            "Epoch 2/40\n",
            "157/157 - 1s - loss: 418.0431 - accuracy: 0.7851 - 868ms/epoch - 6ms/step\n",
            "Epoch 3/40\n",
            "157/157 - 1s - loss: 377.4742 - accuracy: 0.7910 - 840ms/epoch - 5ms/step\n",
            "Epoch 4/40\n",
            "157/157 - 1s - loss: 360.1826 - accuracy: 0.7928 - 845ms/epoch - 5ms/step\n",
            "Epoch 5/40\n",
            "157/157 - 1s - loss: 345.2762 - accuracy: 0.7942 - 839ms/epoch - 5ms/step\n",
            "Epoch 6/40\n",
            "157/157 - 1s - loss: 340.5685 - accuracy: 0.7946 - 861ms/epoch - 5ms/step\n",
            "Epoch 7/40\n",
            "157/157 - 1s - loss: 330.2155 - accuracy: 0.7956 - 861ms/epoch - 5ms/step\n",
            "Epoch 8/40\n",
            "157/157 - 1s - loss: 324.6272 - accuracy: 0.7959 - 868ms/epoch - 6ms/step\n",
            "Epoch 9/40\n",
            "157/157 - 1s - loss: 319.4923 - accuracy: 0.7963 - 864ms/epoch - 6ms/step\n",
            "Epoch 10/40\n",
            "157/157 - 1s - loss: 314.3575 - accuracy: 0.7966 - 838ms/epoch - 5ms/step\n",
            "Epoch 11/40\n",
            "157/157 - 1s - loss: 312.8570 - accuracy: 0.7967 - 863ms/epoch - 5ms/step\n",
            "Epoch 12/40\n",
            "157/157 - 1s - loss: 308.2488 - accuracy: 0.7969 - 855ms/epoch - 5ms/step\n",
            "Epoch 13/40\n",
            "157/157 - 1s - loss: 309.2362 - accuracy: 0.7968 - 871ms/epoch - 6ms/step\n",
            "Epoch 14/40\n",
            "157/157 - 1s - loss: 302.0299 - accuracy: 0.7972 - 877ms/epoch - 6ms/step\n",
            "Epoch 15/40\n",
            "157/157 - 1s - loss: 297.9899 - accuracy: 0.7973 - 851ms/epoch - 5ms/step\n",
            "Epoch 16/40\n",
            "157/157 - 1s - loss: 295.7630 - accuracy: 0.7975 - 852ms/epoch - 5ms/step\n",
            "Epoch 17/40\n",
            "157/157 - 1s - loss: 295.5069 - accuracy: 0.7975 - 867ms/epoch - 6ms/step\n",
            "Epoch 18/40\n",
            "157/157 - 1s - loss: 292.1772 - accuracy: 0.7976 - 863ms/epoch - 5ms/step\n",
            "Epoch 19/40\n",
            "157/157 - 1s - loss: 290.3710 - accuracy: 0.7978 - 848ms/epoch - 5ms/step\n",
            "Epoch 20/40\n",
            "157/157 - 1s - loss: 287.0258 - accuracy: 0.7980 - 847ms/epoch - 5ms/step\n",
            "Epoch 21/40\n",
            "157/157 - 1s - loss: 286.0625 - accuracy: 0.7980 - 865ms/epoch - 6ms/step\n",
            "Epoch 22/40\n",
            "157/157 - 1s - loss: 282.1281 - accuracy: 0.7981 - 848ms/epoch - 5ms/step\n",
            "Epoch 23/40\n",
            "157/157 - 1s - loss: 283.5303 - accuracy: 0.7981 - 872ms/epoch - 6ms/step\n",
            "Epoch 24/40\n",
            "157/157 - 1s - loss: 280.3856 - accuracy: 0.7983 - 851ms/epoch - 5ms/step\n",
            "Epoch 25/40\n",
            "157/157 - 1s - loss: 278.4583 - accuracy: 0.7983 - 858ms/epoch - 5ms/step\n",
            "Epoch 26/40\n",
            "157/157 - 1s - loss: 278.5525 - accuracy: 0.7983 - 841ms/epoch - 5ms/step\n",
            "Epoch 27/40\n",
            "157/157 - 1s - loss: 276.4190 - accuracy: 0.7984 - 863ms/epoch - 5ms/step\n",
            "Epoch 28/40\n",
            "157/157 - 1s - loss: 275.2539 - accuracy: 0.7984 - 840ms/epoch - 5ms/step\n",
            "Epoch 29/40\n",
            "157/157 - 1s - loss: 274.1676 - accuracy: 0.7984 - 858ms/epoch - 5ms/step\n",
            "Epoch 30/40\n",
            "157/157 - 1s - loss: 272.4116 - accuracy: 0.7985 - 868ms/epoch - 6ms/step\n",
            "Epoch 31/40\n",
            "157/157 - 1s - loss: 271.7467 - accuracy: 0.7986 - 843ms/epoch - 5ms/step\n",
            "Epoch 32/40\n",
            "157/157 - 1s - loss: 270.2852 - accuracy: 0.7986 - 840ms/epoch - 5ms/step\n",
            "Epoch 33/40\n",
            "157/157 - 1s - loss: 268.3044 - accuracy: 0.7987 - 868ms/epoch - 6ms/step\n",
            "Epoch 34/40\n",
            "157/157 - 1s - loss: 265.5952 - accuracy: 0.7988 - 847ms/epoch - 5ms/step\n",
            "Epoch 35/40\n",
            "157/157 - 1s - loss: 265.6262 - accuracy: 0.7988 - 850ms/epoch - 5ms/step\n",
            "Epoch 36/40\n",
            "157/157 - 1s - loss: 262.9889 - accuracy: 0.7990 - 864ms/epoch - 6ms/step\n",
            "Epoch 37/40\n",
            "157/157 - 1s - loss: 264.7386 - accuracy: 0.7990 - 875ms/epoch - 6ms/step\n",
            "Epoch 38/40\n",
            "157/157 - 1s - loss: 261.8202 - accuracy: 0.7990 - 839ms/epoch - 5ms/step\n",
            "Epoch 39/40\n",
            "157/157 - 1s - loss: 261.0820 - accuracy: 0.7991 - 848ms/epoch - 5ms/step\n",
            "Epoch 40/40\n",
            "157/157 - 1s - loss: 260.1465 - accuracy: 0.7990 - 840ms/epoch - 5ms/step\n"
          ]
        }
      ]
    },
    {
      "cell_type": "markdown",
      "metadata": {
        "id": "8TO0r282fDIa"
      },
      "source": [
        "## Eval of data\n"
      ]
    },
    {
      "cell_type": "code",
      "metadata": {
        "colab": {
          "base_uri": "https://localhost:8080/"
        },
        "id": "z3mkbCyzffZ1",
        "outputId": "d5043fad-44f9-4c85-a545-bbd0e07a2e45"
      },
      "source": [
        "print(\"Evaluate on test data\")\n",
        "results = model.evaluate(X_sub_test, Y_test, verbose=1)\n",
        "print(\"test loss, test acc:\", results)"
      ],
      "execution_count": null,
      "outputs": [
        {
          "output_type": "stream",
          "name": "stdout",
          "text": [
            "Evaluate on test data\n",
            "157/157 [==============================] - 1s 4ms/step - loss: 300.4548 - accuracy: 0.8077\n",
            "test loss, test acc: [300.454833984375, 0.8076946139335632]\n"
          ]
        }
      ]
    },
    {
      "cell_type": "markdown",
      "metadata": {
        "id": "NdoWtD4DfH45"
      },
      "source": [
        "## Summary of neural network"
      ]
    },
    {
      "cell_type": "code",
      "metadata": {
        "colab": {
          "base_uri": "https://localhost:8080/"
        },
        "id": "D6EY5NvEgar_",
        "outputId": "bd1d90e4-cd40-49e7-a45a-266304e6848d"
      },
      "source": [
        "model.summary()"
      ],
      "execution_count": null,
      "outputs": [
        {
          "output_type": "stream",
          "name": "stdout",
          "text": [
            "Model: \"model\"\n",
            "_________________________________________________________________\n",
            " Layer (type)                Output Shape              Param #   \n",
            "=================================================================\n",
            " input_1 (InputLayer)        [(None, 14, 14, 1)]       0         \n",
            "                                                                 \n",
            " conv2d (Conv2D)             (None, 14, 14, 64)        1664      \n",
            "                                                                 \n",
            " conv2d_1 (Conv2D)           (None, 14, 14, 64)        36928     \n",
            "                                                                 \n",
            " conv2d_2 (Conv2D)           (None, 14, 14, 32)        18464     \n",
            "                                                                 \n",
            " conv2d_3 (Conv2D)           (None, 14, 14, 4)         1156      \n",
            "                                                                 \n",
            " tf.nn.depth_to_space (TFOpL  (None, 28, 28, 1)        0         \n",
            " ambda)                                                          \n",
            "                                                                 \n",
            "=================================================================\n",
            "Total params: 58,212\n",
            "Trainable params: 58,212\n",
            "Non-trainable params: 0\n",
            "_________________________________________________________________\n"
          ]
        }
      ]
    },
    {
      "cell_type": "markdown",
      "metadata": {
        "id": "7_0-FecYU8rj"
      },
      "source": [
        "## Display\n",
        "We can see a visual display that: \n",
        "- Our model has whites that are less solid wih a level of gradiency that is noticeable but irrelevant to the identification of the image\n",
        "- The super res has a similar situation, but the numbers are less solid and the images it returns has more pixeling"
      ]
    },
    {
      "cell_type": "code",
      "metadata": {
        "colab": {
          "base_uri": "https://localhost:8080/",
          "height": 1000
        },
        "id": "DIi43SMzhq1h",
        "outputId": "da75baf3-a6f1-4571-acca-3975836d3a79"
      },
      "source": [
        "import random \n",
        "idx = random.sample(range(0, n_max), 5)\n",
        "my_model_out = model.predict(X_sub_test[idx])\n",
        "super_res_out = super_res_interpolate(np.expand_dims(X_sub_test[idx], axis=3),delta=2)\n",
        "expected_out = Y_test[idx]\n",
        "labels = [\"my model\", \"super res\", \"expected\"]\n",
        "\n",
        "plt.figure(figsize=(20, 20))\n",
        "for i in range(0,5*3):\n",
        "    plt.subplot(5, 3, i+1)\n",
        "    if i%3 == 0:\n",
        "        plt.imshow(my_model_out[i//3][:,:,0],cmap='gray')\n",
        "    elif i%3 == 1:\n",
        "        plt.imshow(super_res_out[i//3][:,:,0],cmap='gray')\n",
        "    else:\n",
        "        plt.imshow(expected_out[i//3],cmap='gray')\n",
        "    plt.title(str(i//3)+' - '+labels[i%3])"
      ],
      "execution_count": null,
      "outputs": [
        {
          "output_type": "display_data",
          "data": {
            "image/png": "[encoded data removed]",
            "text/plain": [
              "<Figure size 1440x1440 with 15 Axes>"
            ]
          },
          "metadata": {
            "needs_background": "light"
          }
        }
      ]
    },
    {
      "cell_type": "markdown",
      "metadata": {
        "id": "AvoLn0p2v8tO"
      },
      "source": [
        "# BONUS\n",
        "Apply logistic regression to the predicted data."
      ]
    },
    {
      "cell_type": "code",
      "metadata": {
        "colab": {
          "base_uri": "https://localhost:8080/"
        },
        "id": "-QC_F6I1v-oU",
        "outputId": "cdf61b7c-24aa-489a-9a97-d51cde7ea887"
      },
      "source": [
        "X_train_reconstruct  = model.predict(X_sub_train)\n",
        "X_test_reconstruct=model.predict(X_sub_test)\n",
        "Y_train_scalar.shape"
      ],
      "execution_count": null,
      "outputs": [
        {
          "output_type": "execute_result",
          "data": {
            "text/plain": [
              "(60000,)"
            ]
          },
          "metadata": {},
          "execution_count": 27
        }
      ]
    },
    {
      "cell_type": "code",
      "metadata": {
        "colab": {
          "base_uri": "https://localhost:8080/"
        },
        "id": "8gq_q4xewMfg",
        "outputId": "0a6049bf-7997-4be3-efbb-27e40439ff25"
      },
      "source": [
        "# Train a simple linear classifier\n",
        "from sklearn.linear_model import LogisticRegression\n",
        "b,m,n = X_train.shape\n",
        "\n",
        "logreg = LogisticRegression(max_iter=3000,C=1e5, solver='lbfgs', multi_class='multinomial')\n",
        "logreg.fit(X_train_reconstruct[:,:,:,0].reshape(b,m*n), Y_train_scalar)\n",
        "\n",
        "predicted_labels = logreg.predict(X_test_reconstruct[:,:,:,0].reshape(b,m*n)) \n",
        "\n",
        "accuracy = np.sum(Y_test_scalar == predicted_labels) / predicted_labels.size\n",
        "print('Accuracy with a linear classifier: %.2f%%' % (accuracy*100))"
      ],
      "execution_count": null,
      "outputs": [
        {
          "output_type": "stream",
          "name": "stdout",
          "text": [
            "Accuracy with a linear classifier: 83.46%\n"
          ]
        }
      ]
    }
  ]
}